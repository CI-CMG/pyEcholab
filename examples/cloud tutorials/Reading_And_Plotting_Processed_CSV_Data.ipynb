{
 "cells": [
  {
   "cell_type": "markdown",
   "metadata": {},
   "source": [
    "# Reading and Plotting Processed CSV Data"
   ]
  },
  {
   "cell_type": "markdown",
   "metadata": {},
   "source": [
    "If you do not already have __pyEcholab__ installed, use the following pip command in the terminal to install it:\n",
    "```\n",
    "pip install git+https://github.com/CI-CMG/pyEcholab.git\n",
    "```"
   ]
  },
  {
   "cell_type": "code",
   "execution_count": 9,
   "metadata": {},
   "outputs": [],
   "source": [
    "import pandas as pd\n",
    "import numpy as np\n",
    "import matplotlib.pyplot as plt\n",
    "\n",
    "import s3fs\n",
    "import boto3, botocore\n",
    "from botocore import UNSIGNED\n",
    "from botocore.client import Config\n",
    "\n",
    "s3 = boto3.resource('s3', aws_access_key_id='', aws_secret_access_key='', config=Config(signature_version=UNSIGNED))\n",
    "\n",
    "BUCKET = 'cires'"
   ]
  },
  {
   "cell_type": "markdown",
   "metadata": {},
   "source": [
    "The column header for the CSV files includes all the following:\n",
    "\n",
    "1. Ping_index\n",
    "1. Distance_gps\n",
    "1. Distance_vl\n",
    "1. Ping_date\n",
    "1. Ping_time\n",
    "1. Ping_milliseconds\n",
    "1. Latitude\n",
    "1. Longitude\n",
    "1. Depth_start\n",
    "1. Depth_stop\n",
    "1. Range_start\n",
    "1. Range_stop\n",
    "1. Sample_count\n",
    "1. Data --> 1000 data samples"
   ]
  },
  {
   "cell_type": "code",
   "execution_count": 39,
   "metadata": {},
   "outputs": [
    {
     "name": "stdout",
     "output_type": "stream",
     "text": [
      "s3://cires/data/processed/SH1305/SaKe_2013-D20130523-T080854_to_SaKe2013-D20130523-T085643.csv\n"
     ]
    }
   ],
   "source": [
    "file = 's3://' + BUCKET + '/data/processed/SH1305/SaKe_2013-D20130523-T080854_to_SaKe2013-D20130523-T085643.csv'\n",
    "\n",
    "print(file)"
   ]
  },
  {
   "cell_type": "code",
   "execution_count": 35,
   "metadata": {},
   "outputs": [
    {
     "name": "stdout",
     "output_type": "stream",
     "text": [
      "type: <class 'pandas.core.frame.DataFrame'>\n",
      "type: <class 'numpy.ndarray'>\n"
     ]
    }
   ],
   "source": [
    "df18 = pd.read_csv(file, header=None, na_values=['-9.9e+37',' -9.9e+37'], skiprows=1)\n",
    "\n",
    "print('type:', type(df18))\n",
    "\n",
    "dd18 = df18.iloc[:, 13:1013].to_numpy()\n",
    "\n",
    "print('type:', type(dd18))"
   ]
  },
  {
   "cell_type": "code",
   "execution_count": 38,
   "metadata": {
    "scrolled": true
   },
   "outputs": [
    {
     "name": "stdout",
     "output_type": "stream",
     "text": [
      "(2548, 1000)\n"
     ]
    },
    {
     "data": {
      "image/png": "[encoded data removed]",
      "text/plain": [
       "<Figure size 432x288 with 1 Axes>"
      ]
     },
     "metadata": {
      "needs_background": "light"
     },
     "output_type": "display_data"
    }
   ],
   "source": [
    "from matplotlib import pyplot as plt\n",
    "\n",
    "print(dd18.shape)\n",
    "plt.imshow(np.rot90(dd18, k=3), aspect='auto')\n",
    "\n",
    "plt.show()"
   ]
  },
  {
   "cell_type": "code",
   "execution_count": null,
   "metadata": {},
   "outputs": [],
   "source": []
  }
 ],
 "metadata": {
  "kernelspec": {
   "display_name": "Python 3",
   "language": "python",
   "name": "python3"
  },
  "language_info": {
   "codemirror_mode": {
    "name": "ipython",
    "version": 3
   },
   "file_extension": ".py",
   "mimetype": "text/x-python",
   "name": "python",
   "nbconvert_exporter": "python",
   "pygments_lexer": "ipython3",
   "version": "3.7.4"
  }
 },
 "nbformat": 4,
 "nbformat_minor": 2
}
