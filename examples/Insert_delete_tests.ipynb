{
 "cells": [
  {
   "cell_type": "markdown",
   "metadata": {},
   "source": [
    "# Insert and Delete Methods"
   ]
  },
  {
   "cell_type": "markdown",
   "metadata": {},
   "source": [
    "This script demonstrates manipulating the RawData and ProcessedData\n",
    "objects using the insert and delete methods. The primary purpose of this\n",
    "example is to verify basic operation of the insert and delete methods,\n",
    "but it also provides some simple and somewhat contrived examples of using\n",
    "index arrays with these methods.\n",
    "\n",
    "Note that the Echogram class doesn't always handle ping times that are NaT\n",
    "very well so the X axis doesn't always get labeled properly in this example."
   ]
  },
  {
   "cell_type": "markdown",
   "metadata": {},
   "source": [
    "## Setup"
   ]
  },
  {
   "cell_type": "code",
   "execution_count": null,
   "metadata": {},
   "outputs": [],
   "source": [
    "# -*- coding: utf-8 -*-\n",
    "%matplotlib nbagg\n",
    "%matplotlib \n",
    "\n",
    "import numpy as np\n",
    "from matplotlib.pyplot import figure, show, subplots_adjust\n",
    "from echolab2.instruments import EK60\n",
    "from echolab2.plotting.matplotlib import echogram"
   ]
  },
  {
   "cell_type": "markdown",
   "metadata": {},
   "source": [
    "## Read in data"
   ]
  },
  {
   "cell_type": "code",
   "execution_count": null,
   "metadata": {},
   "outputs": [],
   "source": [
    "# Read in some data from files.\n",
    "rawfiles = ['./data/EK60/DY1201_EK60-D20120214-T231011.raw']\n",
    "ek60 = EK60.EK60()\n",
    "ek60.read_raw(rawfiles)\n",
    "\n",
    "# Get a reference to the raw_data object.\n",
    "raw_data_38 = ek60.get_raw_data(channel_number=2)\n",
    "print(raw_data_38)"
   ]
  },
  {
   "cell_type": "markdown",
   "metadata": {},
   "source": [
    "## Insert data"
   ]
  },
  {
   "cell_type": "code",
   "execution_count": null,
   "metadata": {},
   "outputs": [],
   "source": [
    "# Insert synthetic data.  Create data where each ping is a constant value and\n",
    "# the values change significantly from ping to ping so it is easy to\n",
    "# distinguish the pings and verify (or not) that data is in the right place.\n",
    "fake_data = np.arange(20) * 9.0 - 150.0\n",
    "j = 0\n",
    "for i in range(raw_data_38.n_pings):\n",
    "    raw_data_38.power[i, :] = fake_data[j]\n",
    "    j += 1\n",
    "    if j == fake_data.shape[0]:\n",
    "        j = 0\n",
    "\n",
    "# Create a figure.\n",
    "fig = figure()\n",
    "subplots_adjust(left=0.1, bottom=.1, right=0.95, top=.90, wspace=None,\n",
    "                hspace=0.9)\n",
    "\n",
    "# Plot the synthetic power data.\n",
    "ax = fig.add_subplot(3, 1, 1)\n",
    "eg = echogram.Echogram(ax, raw_data_38, data_attribute='power')\n",
    "ax.set_title(\"Synthetic power - 136 pings\")\n",
    "\n",
    "# Now resize the data - \"new\" pings will be filled with existing data.\n",
    "raw_data_38.resize(raw_data_38.n_pings+24, raw_data_38.n_samples)\n",
    "print(raw_data_38)\n",
    "\n",
    "# Plot the re-sized data.\n",
    "ax2 = fig.add_subplot(3, 1, 2)\n",
    "eg = echogram.Echogram(ax2, raw_data_38, data_attribute='power')\n",
    "ax2.set_title(\"Synthetic power resized to 160 pings (notice data is \"\n",
    "              \"replicated)\")\n",
    "\n",
    "\n",
    "# Now insert empty data.  First create an index array containing the indices\n",
    "# where we will insert the data.\n",
    "insert_idx = np.array([20, 21, 22, 23, 40, 41, 42, 43, 60, 61, 62, 63, 80, 81,\n",
    "                       82, 83, 100, 101, 102, 103, 120, 121, 122, 123])\n",
    "# Insert the data.  Notice that if we call insert with the \"object to insert\"\n",
    "# argument set to None, it will automagically insert \"empty\" data.\n",
    "raw_data_38.insert(None, index_array=insert_idx)\n",
    "\n",
    "# Plot the power with empty data.\n",
    "ax3 = fig.add_subplot(3, 1, 3)\n",
    "eg = echogram.Echogram(ax3, raw_data_38, data_attribute='power')\n",
    "ax3.set_title(\"Synthetic power resized to 160 pings with empty data inserted\")\n",
    "\n",
    "# Display the results.\n",
    "show()"
   ]
  },
  {
   "cell_type": "code",
   "execution_count": null,
   "metadata": {},
   "outputs": [],
   "source": [
    "# Now convert this data to Sv in both ping order and time order and plot to\n",
    "# show how \"empty\" pings will be moved to the beginning when data is\n",
    "# displayed in time order.  If you need to avoid this, you must explicitly set\n",
    "# appropriate pings times for your empty pings.\n",
    "\n",
    "# Create a figure.\n",
    "fig = figure()\n",
    "subplots_adjust(left=0.1, bottom=0.1, right=0.95, top=.90, wspace=None,\n",
    "                hspace=0.5)\n",
    "\n",
    "# Get the data in ping order and plot.\n",
    "Sv = raw_data_38.get_Sv(time_order=False)\n",
    "ax = fig.add_subplot(2, 1, 1)\n",
    "eg = echogram.Echogram(ax, Sv)\n",
    "ax.set_title('Synthetic power converted to Sv shown in ping order.')\n",
    "\n",
    "# Get the Sv data in time order and plot it.\n",
    "Sv = raw_data_38.get_Sv()\n",
    "ax = fig.add_subplot(2, 1, 2)\n",
    "eg = echogram.Echogram(ax, Sv)\n",
    "ax.set_title('Synthetic power converted to Sv shown in time order.')\n",
    "\n",
    "# Display the results.\n",
    "show()"
   ]
  },
  {
   "cell_type": "markdown",
   "metadata": {},
   "source": [
    "## Delete data"
   ]
  },
  {
   "cell_type": "code",
   "execution_count": null,
   "metadata": {},
   "outputs": [],
   "source": [
    "# Now delete the empty pings we inserted.\n",
    "delete_idx = np.arange(raw_data_38.n_pings)[raw_data_38.ping_time ==\n",
    "                                            np.datetime64('NaT')]\n",
    "raw_data_38.delete(index_array=delete_idx)\n",
    "\n",
    "# Create a matplotlib figure to plot our echograms on.\n",
    "fig = figure()\n",
    "subplots_adjust(left=0.1, bottom=0.1, right=0.95, top=.90, wspace=None,\n",
    "                hspace=0.5)\n",
    "\n",
    "# Plot the synthetic power data.\n",
    "ax = fig.add_subplot(2, 1, 1)\n",
    "eg = echogram.Echogram(ax, raw_data_38, data_attribute='power')\n",
    "ax.set_title(\"Synthetic power after delete - should be 136 pings\")\n",
    "\n",
    "# Get the Sv data in time order and plot it.\n",
    "Sv = raw_data_38.get_Sv()\n",
    "ax = fig.add_subplot(2, 1, 2)\n",
    "eg = echogram.Echogram(ax, Sv)\n",
    "ax.set_title('Synthetic power after delete converted to Sv shown in time '\n",
    "             'order.')\n",
    "\n",
    "# Display the results.\n",
    "show()\n",
    "\n",
    "pass"
   ]
  }
 ],
 "metadata": {
  "kernelspec": {
   "display_name": "Python 3",
   "language": "python",
   "name": "python3"
  },
  "language_info": {
   "codemirror_mode": {
    "name": "ipython",
    "version": 3
   },
   "file_extension": ".py",
   "mimetype": "text/x-python",
   "name": "python",
   "nbconvert_exporter": "python",
   "pygments_lexer": "ipython3",
   "version": "3.6.5"
  }
 },
 "nbformat": 4,
 "nbformat_minor": 2
}
