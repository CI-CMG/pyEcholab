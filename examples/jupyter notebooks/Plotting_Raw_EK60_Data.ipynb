{
 "cells": [
  {
   "cell_type": "markdown",
   "metadata": {},
   "source": [
    "# Plotting Raw EK60 Data"
   ]
  },
  {
   "cell_type": "markdown",
   "metadata": {},
   "source": [
    "This script demonstrates the reading and plotting of ek60 data.  Specifically, the script reads files passed to it, stores the data in an object, retrieves values from the data, appends and inserts data from different sample intervals, and uses matplotlib to plot multiple echograms.\n",
    "\n",
    "If you do not already have __pyEcholab__ installed, use the following pip command in the terminal to install it:\n",
    "```\n",
    "pip install git+https://github.com/CI-CMG/pyEcholab.git\n",
    "```\n",
    "## Setup"
   ]
  },
  {
   "cell_type": "code",
   "execution_count": 1,
   "metadata": {},
   "outputs": [],
   "source": [
    "from echolab2.instruments import EK60\n",
    "from echolab2.plotting.matplotlib import echogram\n",
    "from echolab2.processing import mask, line\n",
    "import numpy as np\n",
    "import pandas as pd\n",
    "import os"
   ]
  },
  {
   "cell_type": "markdown",
   "metadata": {},
   "source": [
    "## Read the data\n",
    "First, we will read in some data. For this test, we purposely picked two files with the same channels, but with different pulse lengths and a different installation order."
   ]
  },
  {
   "cell_type": "code",
   "execution_count": 2,
   "metadata": {},
   "outputs": [
    {
     "name": "stdout",
     "output_type": "stream",
     "text": [
      "<class 'echolab2.instruments.EK60.EK60'> at 0x114f1bac8\n",
      "    EK60 object contains data from 10 channels:\n",
      "        1:GPT  18 kHz 009072034d45 3-1 ES18-11\n",
      "        2:GPT  38 kHz 009072033fa2 1-1 ES38B\n",
      "        3:GPT  70 kHz 009072058c6c 2-1 ES70-7C\n",
      "        4:GPT 120 kHz 00907205794e 5-1 ES120-7C\n",
      "        5:GPT 200 kHz 0090720346a8 4-1 ES200-7C\n",
      "        6:GPT  18 kHz 009072034d45 1-1 ES18-11\n",
      "        7:GPT  38 kHz 009072033fa2 2-1 ES38B\n",
      "        8:GPT  70 kHz 009072058c6c 3-1 ES70-7C\n",
      "        9:GPT 120 kHz 00907205794e 4-1 ES120-7C\n",
      "        10:GPT 200 kHz 0090720346a8 5-1 ES200-7C\n",
      "    data start time: 2012-02-14T23:10:11.298\n",
      "      data end time: 2017-06-09T01:05:15.638\n",
      "    number of pings: 899\n",
      "\n"
     ]
    }
   ],
   "source": [
    "rawfiles = ['./data/EK60/DY1201_EK60-D20120214-T231011.raw',\n",
    "            './data/EK60/DY1706_EK60-D20170609-T005736.raw']\n",
    "\n",
    "# Create an instance of the EK60 instrument.\n",
    "# This is the top level object used to interact with EK60 and  data sources.\n",
    "ek60 = EK60.EK60()\n",
    "\n",
    "# Use the read_raw method to read in a data file.\n",
    "ek60.read_raw(rawfiles)\n",
    "\n",
    "# Print some basic info about our object.  As you will see, 10 channels are \n",
    "# reported.  Each file has 5 channels, and are in fact, physically the same \n",
    "# hardware.  The reason there are 10 channels reported is because their \n",
    "# transceiver number in the ER60 software changed.\n",
    "print(ek60)"
   ]
  },
  {
   "cell_type": "markdown",
   "metadata": {},
   "source": [
    "## Parse the data\n",
    "Now, parse the data for values you want to plot.  In this test, we retrieve data from the first and second channels of the 38kHZ frequency transciever and combine them into a raw data object."
   ]
  },
  {
   "cell_type": "code",
   "execution_count": 3,
   "metadata": {},
   "outputs": [
    {
     "name": "stdout",
     "output_type": "stream",
     "text": [
      "<class 'echolab2.instruments.EK60.RawData'> at 0x114f1bc88\n",
      "                channel(s): [GPT  38 kHz 009072033fa2 1-1 ES38B]\n",
      "    frequency (first ping): 38000.0\n",
      " pulse length (first ping): 0.001024\n",
      "           data start time: 2012-02-14T23:10:11.298\n",
      "             data end time: 2012-02-14T23:10:51.642\n",
      "           number of pings: 136\n",
      "    power array dimensions: (136,994)\n",
      "    angle array dimensions: (136,994)\n",
      "\n"
     ]
    }
   ],
   "source": [
    "# Get a reference to the RawData object that contains data from the first 38 kHz\n",
    "# channel.\n",
    "raw_data_38_1 = ek60.get_raw_data(channel_number=2)\n",
    "\n",
    "# The sample data from channel 2 is contained in a 136x994 array.  The data was\n",
    "# recorded with a 1024us transmit pulse length, which on the EK60 and related\n",
    "# hardware results in a sample interval of 256us (sample interval = pulse\n",
    "# length / 4).  The data were recorded in 2012.\n",
    "\n",
    "print(raw_data_38_1)"
   ]
  },
  {
   "cell_type": "code",
   "execution_count": 4,
   "metadata": {},
   "outputs": [
    {
     "name": "stdout",
     "output_type": "stream",
     "text": [
      "<class 'echolab2.instruments.EK60.RawData'> at 0x114f1bd68\n",
      "                channel(s): [GPT  38 kHz 009072033fa2 2-1 ES38B]\n",
      "    frequency (first ping): 38000.0\n",
      " pulse length (first ping): 0.000512\n",
      "           data start time: 2017-06-09T00:57:36.074\n",
      "             data end time: 2017-06-09T01:05:13.929\n",
      "           number of pings: 763\n",
      "    power array dimensions: (763,1059)\n",
      "    angle array dimensions: (763,1059)\n",
      "\n",
      "<class 'echolab2.instruments.EK60.RawData'> at 0x114f1bc88\n",
      "                channel(s): [GPT  38 kHz 009072033fa2 1-1 ES38B, GPT  38 kHz 009072033fa2 2-1 ES38B]\n",
      "    frequency (first ping): 38000.0\n",
      " pulse length (first ping): 0.001024\n",
      "           data start time: 2012-02-14T23:10:11.298\n",
      "             data end time: 2017-06-09T01:05:13.929\n",
      "           number of pings: 899\n",
      "    power array dimensions: (899,1059)\n",
      "    angle array dimensions: (899,1059)\n",
      "\n",
      "<class 'echolab2.instruments.EK60.RawData'> at 0x114f1bc88\n",
      "                channel(s): [GPT  38 kHz 009072033fa2 1-1 ES38B, GPT  38 kHz 009072033fa2 2-1 ES38B, GPT  38 kHz 009072033fa2 2-1 ES38B]\n",
      "    frequency (first ping): 38000.0\n",
      " pulse length (first ping): 0.001024\n",
      "           data start time: 2012-02-14T23:10:11.298\n",
      "             data end time: 2017-06-09T01:05:13.929\n",
      "           number of pings: 1662\n",
      "    power array dimensions: (1662,1059)\n",
      "    angle array dimensions: (1662,1059)\n",
      "\n"
     ]
    }
   ],
   "source": [
    "# Also get a reference to the RawData object that contains data from the\n",
    "# second 38 kHz channel.\n",
    "raw_data_38_2 = ek60.get_raw_data(channel_number=7)\n",
    "\n",
    "# Channel 7's sample data is a 763x1059 array recoded with a 512us pulse length\n",
    "# resulting in a sample interval of 128us.  These data were recorded in 2017.\n",
    "\n",
    "print(raw_data_38_2)\n",
    "\n",
    "# Append the 2nd object's data to the first and print out the results.\n",
    "raw_data_38_1.append(raw_data_38_2)\n",
    "\n",
    "# The result of this append is that raw_data_38_1 now contains data from 899\n",
    "# pings.  The first 136 pings are the 2012 data and the next 763 the 2017\n",
    "# data.  The sample data arrays are 899x1059 and the object contains 2 unique\n",
    "# sample intervals.\n",
    "\n",
    "print(raw_data_38_1)\n",
    "\n",
    "# Insert the 2nd object's data into the first at ping 50.\n",
    "raw_data_38_1.insert(raw_data_38_2, ping_number=50)\n",
    "\n",
    "# Now raw_data_38_1 contains 1662 pings. Pings 1-50 are from the 2012 data.\n",
    "# Pings 51-813 are the 763 pings from the 2012 data. Pings 814-899 are the\n",
    "# rest of the 2012 data and pings 900-1663 are a second copy of the 2017 data.\n",
    "\n",
    "print(raw_data_38_1)"
   ]
  },
  {
   "cell_type": "markdown",
   "metadata": {},
   "source": [
    "## Plot Data\n",
    "Using matplotlib, we can plot our data. But first, the data needs to get processed.\n",
    "\n",
    "At this point, we have a 1662x1059 array with data recorded at two different sample intervals.  When we convert this data to return a ProcessedData object, we have to resample to a constant sample interval.  By default, the get_ methods will resample to the shortest sample interval (highest resolution) in the data that is being returned.  In our case, that will result in the 136 pings from 2012 recorded with a sample rate of 256us being resampled to 128us.\n",
    "\n",
    "The the files were also recorded with slightly different sound speed values and we're not going to supply a constant sound speed (or any calibration values) to the get_power method so it will use the calibration parameter values from the RawData.  When no sound speed calibration data is provided, the get_* methods will resort to interpolating range using the sound speed that occurs most in the data (in other words, it interpolates the fewest pings it needs to).\n",
    "\n",
    "When we request data using the get_ methods, we can provide a time range or ping range to return data from.  Providing no constraints on the range of data returned will return all of the data.  By default, the data will be in time order.  You can force the method to return data in ping order (the order it exists in the RawData object) by setting the time_order keyword to False.  Advanced indexing can be done outside of the get_ methods and passed into them using the return_indices keyword."
   ]
  },
  {
   "cell_type": "code",
   "execution_count": null,
   "metadata": {
    "scrolled": false
   },
   "outputs": [
    {
     "name": "stdout",
     "output_type": "stream",
     "text": [
      "<class 'echolab2.processing.processed_data.ProcessedData'> at 0x112dfaa90\n",
      "                channel(s): [GPT  38 kHz 009072033fa2 1-1 ES38B, GPT  38 kHz 009072033fa2 2-1 ES38B, GPT  38 kHz 009072033fa2 2-1 ES38B]\n",
      "                 frequency: 38000.0\n",
      "           data start time: 2012-02-14T23:10:11.298\n",
      "             data end time: 2017-06-09T01:05:13.929\n",
      "            number of pings: 1662\n",
      "            data attributes: ping_time (1662)\n",
      "                            data (1662,1988)\n",
      "                            range (1988)\n",
      "\n",
      "<class 'echolab2.processing.processed_data.ProcessedData'> at 0x102d75c18\n",
      "                channel(s): [GPT  38 kHz 009072033fa2 1-1 ES38B, GPT  38 kHz 009072033fa2 2-1 ES38B, GPT  38 kHz 009072033fa2 2-1 ES38B]\n",
      "                 frequency: 38000.0\n",
      "           data start time: 2012-02-14T23:10:11.298\n",
      "             data end time: 2017-06-09T01:05:13.929\n",
      "            number of pings: 1662\n",
      "            data attributes: ping_time (1662)\n",
      "                            data (1662,1988)\n",
      "                            range (1988)\n",
      "\n"
     ]
    }
   ],
   "source": [
    "%matplotlib inline\n",
    "from matplotlib.pyplot import figure, show, subplots_adjust, get_cmap\n",
    "\n",
    "fig = figure(figsize=[20, 40])\n",
    "\n",
    "# Create an axis for our raw data.\n",
    "ax_1 = fig.add_subplot(3, 1, 1)\n",
    "# Create an echogram to plot up the raw sample data.\n",
    "echogram_2 = echogram.Echogram(ax_1, raw_data_38_1, 'power')\n",
    "ax_1.set_title(\"Raw power as stored in RawData object\", fontsize=30)\n",
    "ax_1.set_ylabel('sample',fontsize=20)\n",
    "ax_1.set_xlabel('10-30-11',fontsize=20)\n",
    "\n",
    "\n",
    "# Call get_power to get a ProcessedData object that contains power data.  We\n",
    "# provide no arguments so we get all pings ordered by time.\n",
    "processed_power_1 = raw_data_38_1.get_power()\n",
    "print(processed_power_1)\n",
    "\n",
    "ax_2 = fig.add_subplot(3, 1, 2)\n",
    "echogram_2 = echogram.Echogram(ax_2, processed_power_1)\n",
    "ax_2.set_title(\"Power data in time order\", fontsize=30)\n",
    "ax_2.set_ylabel('range(m)',fontsize=20)\n",
    "ax_2.set_xlabel('10-30-11',fontsize=20)\n",
    "\n",
    "Sv = raw_data_38_1.get_Sv()\n",
    "print(Sv)\n",
    "\n",
    "ax_3 = fig.add_subplot(3, 1, 3)\n",
    "echogram_3 = echogram.Echogram(ax_3, Sv, threshold=[-70,-34])\n",
    "ax_3.set_title(\"Sv data in time order\", fontsize=30)\n",
    "ax_3.set_ylabel('range(m)',fontsize=20)\n",
    "ax_3.set_xlabel('10-30-11',fontsize=20)\n",
    "\n",
    "show()"
   ]
  }
 ],
 "metadata": {
  "kernelspec": {
   "display_name": "Python 3",
   "language": "python",
   "name": "python3"
  },
  "language_info": {
   "codemirror_mode": {
    "name": "ipython",
    "version": 3
   },
   "file_extension": ".py",
   "mimetype": "text/x-python",
   "name": "python",
   "nbconvert_exporter": "python",
   "pygments_lexer": "ipython3",
   "version": "3.6.7"
  }
 },
 "nbformat": 4,
 "nbformat_minor": 2
}
