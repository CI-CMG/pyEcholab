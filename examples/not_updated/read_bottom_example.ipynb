{
 "cells": [
  {
   "cell_type": "markdown",
   "metadata": {},
   "source": [
    "## Bottom Reader Example"
   ]
  },
  {
   "cell_type": "markdown",
   "metadata": {},
   "source": [
    "This script demonstrates how to read raw and bot/out files to plot echograms of the data.  The script works by reading in data files, parsing the data, and plotting the data."
   ]
  },
  {
   "cell_type": "markdown",
   "metadata": {},
   "source": [
    "## Setup"
   ]
  },
  {
   "cell_type": "code",
   "execution_count": null,
   "metadata": {},
   "outputs": [],
   "source": [
    "%matplotlib nbagg\n",
    "%matplotlib\n",
    "\n",
    "from matplotlib.pyplot import figure, show\n",
    "from echolab2.instruments import EK60\n",
    "from echolab2.plotting.matplotlib import echogram"
   ]
  },
  {
   "cell_type": "markdown",
   "metadata": {},
   "source": [
    "## Read in some data\n",
    "Let's start with .raw files and .bot files "
   ]
  },
  {
   "cell_type": "code",
   "execution_count": null,
   "metadata": {},
   "outputs": [],
   "source": [
    "# Create a list of .raw files.\n",
    "rawfiles = ['./data/EK60/DY1706_EK60-D20170625-T061707.raw']\n",
    "# Also create a list of .bot files.\n",
    "botfiles = ['./data/EK60/DY1706_EK60-D20170625-T061707.bot']\n",
    "\n",
    "# Create an instance of EK60.\n",
    "ek60 = EK60.EK60()\n",
    "\n",
    "# Read the .raw files.\n",
    "print('reading raw files...')\n",
    "ek60.read_raw(rawfiles, frequencies=[38000, 120000])\n",
    "\n",
    "# Read the .bot files.\n",
    "print('reading bot files...')\n",
    "ek60.read_bot(botfiles)"
   ]
  },
  {
   "cell_type": "markdown",
   "metadata": {},
   "source": [
    "## Parse the data"
   ]
  },
  {
   "cell_type": "code",
   "execution_count": null,
   "metadata": {},
   "outputs": [],
   "source": [
    "# Get a reference to the RawData object for specified channels.\n",
    "raw_data_38 = ek60.get_raw_data(channel_number=1)\n",
    "raw_data_120 = ek60.get_raw_data(channel_number=2)\n",
    "\n",
    "# Get Sv data.\n",
    "Sv_38_as_depth = raw_data_38.get_Sv(heave_correct=True)\n",
    "Sv_120_as_depth = raw_data_120.get_Sv(heave_correct=True)\n",
    "\n",
    "# Get the sounder detected bottom data.  The astute observer would wonder why\n",
    "# we're applying heave correction to the sounder detected bottom since you\n",
    "# shouldn't do this (you only correct the underlying sample data which\n",
    "# defines the axes).  We have chosen to allow the heave_correct keyword in this\n",
    "# context to maintain a consistent interface with the get_* methods.  When\n",
    "# set, no heave correction is applied, but it ensures that get_bottom returns\n",
    "# *depth*.  You could achieve the same thing by setting the return_depth\n",
    "# keyword to True.\n",
    "bottom_38 = raw_data_38.get_bottom(heave_correct=True)\n",
    "bottom_120 = raw_data_120.get_bottom(heave_correct=True)"
   ]
  },
  {
   "cell_type": "markdown",
   "metadata": {},
   "source": [
    "## Plot the data"
   ]
  },
  {
   "cell_type": "code",
   "execution_count": null,
   "metadata": {},
   "outputs": [],
   "source": [
    "# Create matplotlib figures and display the results.\n",
    "fig_38 = figure()\n",
    "eg = echogram.Echogram(fig_38, Sv_38_as_depth, threshold=[-70, -34])\n",
    "eg.axes.set_title(\"Heave Corrected with Detected Bottom - 38kHz\")\n",
    "eg.plot_line(bottom_38, linewidth=2.5)\n",
    "\n",
    "fig_120 = figure()\n",
    "eg = echogram.Echogram(fig_120, Sv_120_as_depth, threshold=[-70, -34])\n",
    "eg.axes.set_title(\"Heave Corrected with Detected Bottom - 120kHz\")\n",
    "eg.plot_line(bottom_120, linewidth=2.5)\n",
    "\n",
    "show()"
   ]
  },
  {
   "cell_type": "markdown",
   "metadata": {},
   "source": [
    "## Read in some more data\n",
    "Now read EK60 data with .out files.  There is usually not a 1-1 relationship between .out and .raw files so you have to use the file name to determine which .raw files are associated with an out file."
   ]
  },
  {
   "cell_type": "code",
   "execution_count": null,
   "metadata": {},
   "outputs": [],
   "source": [
    "# Create a list of .raw files.\n",
    "rawfiles = ['./data/ES60/L0226-D20170624-T143908-ES60.raw',\n",
    "            './data/ES60/L0226-D20170624-T155849-ES60.raw']\n",
    "# Also create a list of .out files.\n",
    "outfiles = ['./data/ES60/L0226-D20170624-T143908-ES60.out']\n",
    "\n",
    "# Create an instance of ER60.\n",
    "ek60 = EK60.EK60()\n",
    "\n",
    "# Read the .raw files.\n",
    "print('reading raw files...')\n",
    "ek60.read_raw(rawfiles)\n",
    "\n",
    "# Read the .out files.\n",
    "print('reading out files...')\n",
    "ek60.read_bot(outfiles)"
   ]
  },
  {
   "cell_type": "markdown",
   "metadata": {},
   "source": [
    "## Parse the data"
   ]
  },
  {
   "cell_type": "code",
   "execution_count": null,
   "metadata": {},
   "outputs": [],
   "source": [
    "# Get a reference to the RawData object.\n",
    "raw_data_38 = ek60.get_raw_data(channel_number=1)\n",
    "\n",
    "# Get Sv as range.\n",
    "Sv_38_as_range = raw_data_38.get_Sv()\n",
    "\n",
    "# Also get bottom as range.\n",
    "bottom_38 = raw_data_38.get_bottom()\n",
    "\n",
    "# Now get Sv as depth.\n",
    "Sv_38_as_depth = raw_data_38.get_Sv(return_depth=True)\n",
    "\n",
    "# Also get bottom as depth.\n",
    "bottom_38 = raw_data_38.get_bottom(return_depth=True)\n",
    "print(Sv_38_as_depth)\n",
    "print(bottom_38)"
   ]
  },
  {
   "cell_type": "markdown",
   "metadata": {},
   "source": [
    "## Plot the data"
   ]
  },
  {
   "cell_type": "code",
   "execution_count": null,
   "metadata": {},
   "outputs": [],
   "source": [
    "# Create a matplotlib figure.\n",
    "fig_1 = figure()\n",
    "eg = echogram.Echogram(fig_1, Sv_38_as_range, threshold=[-70, -34])\n",
    "eg.axes.set_title(\"Bottom as range - 38kHz\")\n",
    "eg.plot_line(bottom_38, linewidth=2.5)\n",
    "\n",
    "# Create another figure and display the results.  Use a ProcessedData.view\n",
    "# to zoom into the upper part of the water column.\n",
    "fig_2 = figure()\n",
    "Sv_38_view = Sv_38_as_depth.view((None, None, None), (0, 500, None))\n",
    "eg = echogram.Echogram(fig_2, Sv_38_view, threshold=[-70, -34])\n",
    "eg.axes.set_title(\"Bottom as depth - 38kHz\")\n",
    "eg.plot_line(bottom_38, linewidth=2.5)\n",
    "show()"
   ]
  }
 ],
 "metadata": {
  "kernelspec": {
   "display_name": "Python 3",
   "language": "python",
   "name": "python3"
  },
  "language_info": {
   "codemirror_mode": {
    "name": "ipython",
    "version": 3
   },
   "file_extension": ".py",
   "mimetype": "text/x-python",
   "name": "python",
   "nbconvert_exporter": "python",
   "pygments_lexer": "ipython3",
   "version": "3.6.5"
  }
 },
 "nbformat": 4,
 "nbformat_minor": 2
}
