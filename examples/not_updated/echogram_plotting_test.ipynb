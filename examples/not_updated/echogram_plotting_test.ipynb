{
 "cells": [
  {
   "cell_type": "markdown",
   "metadata": {},
   "source": [
    "# Echogram Plotting Test"
   ]
  },
  {
   "cell_type": "markdown",
   "metadata": {},
   "source": [
    "This script demonstrates plotting echograms using fake data."
   ]
  },
  {
   "cell_type": "markdown",
   "metadata": {},
   "source": [
    "## Setup"
   ]
  },
  {
   "cell_type": "code",
   "execution_count": null,
   "metadata": {},
   "outputs": [],
   "source": [
    "import numpy as np\n",
    "import datetime\n",
    "from matplotlib.pyplot import figure, show\n",
    "from echolab2.processing import processed_data, line\n",
    "from echolab2.plotting.matplotlib import echogram"
   ]
  },
  {
   "cell_type": "markdown",
   "metadata": {},
   "source": [
    "## Data"
   ]
  },
  {
   "cell_type": "code",
   "execution_count": null,
   "metadata": {},
   "outputs": [],
   "source": [
    "test_data_pings = 100\n",
    "test_data_samples = 1000\n",
    "sample_thickness_m = 0.5\n",
    "ping_interval_ms = 1000.0\n",
    "\n",
    "fake_Sv = processed_data.ProcessedData('Fake Data', 120000, 'Sv')\n",
    "fake_Sv.n_samples = test_data_samples\n",
    "fake_Sv.n_pings = test_data_pings"
   ]
  },
  {
   "cell_type": "markdown",
   "metadata": {},
   "source": [
    "## Create data arrays"
   ]
  },
  {
   "cell_type": "code",
   "execution_count": null,
   "metadata": {},
   "outputs": [],
   "source": [
    "# Create some fake data arrays.\n",
    "ranges = np.arange(test_data_samples) * sample_thickness_m\n",
    "times = (np.arange(test_data_pings) * ping_interval_ms) + \\\n",
    "        np.datetime64('2018-03-21T03:30:30', 'ms').astype('float')\n",
    "data = np.zeros((test_data_pings, test_data_samples), dtype='float32')\n",
    "data[:, 1::2] = 10.0\n",
    "\n",
    "# Add the fake data to the ProcessedData object.\n",
    "fake_Sv.add_attribute('range', ranges)\n",
    "fake_Sv.add_attribute('ping_time', times.astype('datetime64[ms]'))\n",
    "fake_Sv.add_attribute('data', data)\n",
    "\n",
    "# Create lines.\n",
    "a_line = line.Line(ping_time=np.array([times[0], times[-1]]), data=np.array([\n",
    "    0, 0]))\n",
    "n_lines = int((ranges[-1] / (sample_thickness_m * 10)) + 0.5)"
   ]
  },
  {
   "cell_type": "markdown",
   "metadata": {},
   "source": [
    "## Plot data"
   ]
  },
  {
   "cell_type": "code",
   "execution_count": null,
   "metadata": {},
   "outputs": [],
   "source": [
    "# Create a matplotlib figure to plot our echograms on.\n",
    "fig_1 = figure()\n",
    "eg = echogram.Echogram(fig_1, fake_Sv, threshold=[0, 20])\n",
    "eg.axes.set_title(\"Echogram Plot Test\")\n",
    "\n",
    "for i in range(n_lines):\n",
    "    eg.plot_line(a_line, linewidth=1.0)\n",
    "    a_line = a_line + (sample_thickness_m * 10)\n",
    "\n",
    "# Display figure.\n",
    "show()"
   ]
  },
  {
   "cell_type": "code",
   "execution_count": null,
   "metadata": {},
   "outputs": [],
   "source": []
  }
 ],
 "metadata": {
  "kernelspec": {
   "display_name": "Python 3",
   "language": "python",
   "name": "python3"
  },
  "language_info": {
   "codemirror_mode": {
    "name": "ipython",
    "version": 3
   },
   "file_extension": ".py",
   "mimetype": "text/x-python",
   "name": "python",
   "nbconvert_exporter": "python",
   "pygments_lexer": "ipython3",
   "version": "3.6.5"
  }
 },
 "nbformat": 4,
 "nbformat_minor": 2
}
