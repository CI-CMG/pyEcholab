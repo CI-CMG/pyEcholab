{
 "cells": [
  {
   "cell_type": "markdown",
   "metadata": {},
   "source": [
    "# Mask Example\n",
    "\n",
    "This script demonstrates the use of masks for modifying and thresholding\n",
    "data.  Specifically, it demonstrates processes such as creating masks,\n",
    "copying and changing values in a mask, and plotting masks."
   ]
  },
  {
   "cell_type": "markdown",
   "metadata": {},
   "source": [
    "## Setup"
   ]
  },
  {
   "cell_type": "code",
   "execution_count": null,
   "metadata": {},
   "outputs": [],
   "source": [
    "# -*- coding: utf-8 -*-\n",
    "%matplotlib nbagg\n",
    "%matplotlib  \n",
    "\n",
    "from matplotlib.pyplot import figure, show, subplots_adjust\n",
    "from echolab2.instruments import EK60\n",
    "from echolab2.plotting.matplotlib import echogram\n",
    "from echolab2.processing import mask"
   ]
  },
  {
   "cell_type": "markdown",
   "metadata": {},
   "source": [
    "## Read in data"
   ]
  },
  {
   "cell_type": "code",
   "execution_count": null,
   "metadata": {},
   "outputs": [],
   "source": [
    "# Read in some data from files.\n",
    "rawfiles = ['./data/EK60/PC1106-D20110830-T052815.raw',\n",
    "            './data/EK60/PC1106-D20110830-T053815.raw']\n",
    "\n",
    "ek60 = EK60.EK60()\n",
    "ek60.read_raw(rawfiles)"
   ]
  },
  {
   "cell_type": "markdown",
   "metadata": {},
   "source": [
    "## Parse the data"
   ]
  },
  {
   "cell_type": "code",
   "execution_count": null,
   "metadata": {},
   "outputs": [],
   "source": [
    "# Get a reference to the RawData object.\n",
    "raw_data_38 = ek60.get_raw_data(channel_number=2)\n",
    "print(raw_data_38)\n",
    "\n",
    "# Get a ProcessedData object containing Sv.\n",
    "Sv = raw_data_38.get_Sv()\n",
    "print(Sv)\n",
    "\n",
    "# Create a copy of Sv to compare against the copy we will manipulate.\n",
    "orig_Sv = Sv.copy()"
   ]
  },
  {
   "cell_type": "markdown",
   "metadata": {},
   "source": [
    "## Create some masks\n",
    "Create a couple of masks.  Masks come in two types.  \"Ping\" masks are 1d masks that apply to all samples in a ping, while \"sample\" masks are 2d masks and apply to the individual sample data elements.\n",
    "\n",
    "Mask objects are comprised of either a 2d or 1d boolean array and one or two 1d arrays containing the axes for the array.  When applying masks, the axes are checked against the axes of the object you're applying the mask to and they must be the same.  Because of this, most of the time you will create a mask that is \"like\" an existing ProcessedData object, which\n",
    "results in the mask array being sized correctly for the ProcessedData object and the axes are copied from the ProcessedData object and thus are the same."
   ]
  },
  {
   "cell_type": "code",
   "execution_count": null,
   "metadata": {},
   "outputs": [],
   "source": [
    "# The default behavior of the constructor is to create a sample mask so we'll\n",
    "# create a sample mask that is like our \"Sv\" ProcessedData object.\n",
    "sample_mask = mask.Mask(like=Sv)\n",
    "print(sample_mask)\n",
    "\n",
    "# Masks are by default created with all elements set to \"False\".  You can use\n",
    "# the value keyword of the constructor to set it to True if you so desire.\n",
    "\n",
    "# Create a ping mask like Sv, setting all values to True.\n",
    "ping_mask = mask.Mask(like=Sv, type='ping', value=True)\n",
    "print(ping_mask)\n",
    "\n",
    "# Masks can be used on their own to present data (though mask plotting isn't\n",
    "# implemented yet) or more commonly used as a logical index array to operate on\n",
    "# specific samples in a ProcessedData object.  Since mask plotting isn't\n",
    "# implemented, we'll focus on the second, more common use.\n",
    "\n",
    "# At the most basic level, setting mask elements to True will specify that\n",
    "# an operation occurs on that element.  For example, if we wanted to set\n",
    "# a block of samples between sample 50 and 800 from ping 20-500 to -999\n",
    "# we could set those mask values to True and then use the mask to \"index\"\n",
    "# into our ProcessedData object Sv.\n",
    "sample_mask.mask[20:500, 50:800] = True\n",
    "\n",
    "# Now use the mask to set these samples to -999.\n",
    "Sv[sample_mask] = -999"
   ]
  },
  {
   "cell_type": "markdown",
   "metadata": {},
   "source": [
    "## Plot the data"
   ]
  },
  {
   "cell_type": "code",
   "execution_count": null,
   "metadata": {},
   "outputs": [],
   "source": [
    "# Create a matplotlib figure to plot our echograms on.\n",
    "fig = figure()\n",
    "subplots_adjust(left=0.075, bottom=.05, right=0.98, top=.90, wspace=None,\n",
    "                hspace=0.5)\n",
    "\n",
    "# Plot the original data.\n",
    "ax1 = fig.add_subplot(2, 1, 1)\n",
    "eg = echogram.Echogram(ax1, orig_Sv, threshold=[-70, -34])\n",
    "ax1.set_title(\"Original Sv Data\")\n",
    "\n",
    "# Plot the data we modified.\n",
    "ax2 = fig.add_subplot(2, 1, 2)\n",
    "eg = echogram.Echogram(ax2, Sv, threshold=[-70, -34])\n",
    "ax2.set_title('Modified Sv data')\n",
    "\n",
    "# Display the results.\n",
    "show()"
   ]
  },
  {
   "cell_type": "markdown",
   "metadata": {},
   "source": [
    "But that's not really how you would use a mask since you can set rectangular regions directly by slicing the ProcessedData object. Thresholding is a more realistic example of using a mask."
   ]
  },
  {
   "cell_type": "markdown",
   "metadata": {},
   "source": [
    "## Plot the data using thresholding"
   ]
  },
  {
   "cell_type": "code",
   "execution_count": null,
   "metadata": {},
   "outputs": [],
   "source": [
    "# Using Python comparison operators with ProcessedData objects will return\n",
    "# masks so thresholding is as simple as using <, >, <=, >=, etc.\n",
    "\n",
    "Sv = orig_Sv.copy()\n",
    "\n",
    "# The comparison operators work on scalars.  Create 3 masks, each with a\n",
    "# different threshold.\n",
    "mask_1 = Sv < -70\n",
    "mask_3 = Sv > -25\n",
    "\n",
    "# You can apply boolean operators to masks as well, which also returns a mask.\n",
    "# Just make sure you group the operations properly.\n",
    "mask_2 = (Sv >= -50) & (Sv <= -25)\n",
    "\n",
    "# Instead of using the masks to set values in the original Sv object, let's\n",
    "# create a ProcessedData object that is a copy of Sv with the sample data set\n",
    "# to zeros.\n",
    "synth_data = Sv.zeros_like()\n",
    "\n",
    "# Now set the values in our new ProcessedData object.\n",
    "synth_data[mask_1] = 0\n",
    "synth_data[mask_2] = 10\n",
    "synth_data[mask_3] = 15\n",
    "\n",
    "# Create a matplotlib figure to plot our echograms on.\n",
    "fig = figure()\n",
    "subplots_adjust(left=0.075, bottom=.05, right=0.98, top=.90, wspace=None,\n",
    "                hspace=0.5)\n",
    "\n",
    "# Plot the original data.\n",
    "ax1 = fig.add_subplot(2, 1, 1)\n",
    "eg = echogram.Echogram(ax1, orig_Sv, threshold=[-70, -34])\n",
    "ax1.set_title(\"Original Sv Data\")\n",
    "\n",
    "# Plot the data we modified.\n",
    "ax2 = fig.add_subplot(2, 1, 2)\n",
    "eg = echogram.Echogram(ax2, synth_data, threshold=[0, 20])\n",
    "ax2.set_title('Threshold results')\n",
    "\n",
    "# Display the results.\n",
    "show()"
   ]
  },
  {
   "cell_type": "code",
   "execution_count": null,
   "metadata": {},
   "outputs": [],
   "source": []
  }
 ],
 "metadata": {
  "kernelspec": {
   "display_name": "Python 3",
   "language": "python",
   "name": "python3"
  },
  "language_info": {
   "codemirror_mode": {
    "name": "ipython",
    "version": 3
   },
   "file_extension": ".py",
   "mimetype": "text/x-python",
   "name": "python",
   "nbconvert_exporter": "python",
   "pygments_lexer": "ipython3",
   "version": "3.6.5"
  }
 },
 "nbformat": 4,
 "nbformat_minor": 2
}
